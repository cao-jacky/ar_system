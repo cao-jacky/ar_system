{
 "cells": [
  {
   "cell_type": "markdown",
   "metadata": {
    "ExecuteTime": {
     "end_time": "2020-08-19T12:04:51.774052Z",
     "start_time": "2020-08-19T12:04:51.768557Z"
    }
   },
   "source": [
    "# main\n",
    "This notebook allows for the managing of server_darknet, i.e., running, managing logs, etc."
   ]
  },
  {
   "cell_type": "code",
   "execution_count": 1,
   "metadata": {
    "ExecuteTime": {
     "end_time": "2020-08-19T13:04:01.971525Z",
     "start_time": "2020-08-19T13:04:01.948525Z"
    }
   },
   "outputs": [],
   "source": [
    "# performing necessary imports\n",
    "import subprocess\n",
    "\n",
    "from IPython.display import display, Markdown, clear_output\n",
    "import ipywidgets as widgets\n",
    "import time \n",
    "\n",
    "import server_python_commands"
   ]
  },
  {
   "cell_type": "code",
   "execution_count": 2,
   "metadata": {
    "ExecuteTime": {
     "end_time": "2020-08-19T13:04:02.324003Z",
     "start_time": "2020-08-19T13:04:02.317539Z"
    }
   },
   "outputs": [],
   "source": [
    "# making some variables global\n",
    "global server_port"
   ]
  },
  {
   "cell_type": "code",
   "execution_count": 7,
   "metadata": {
    "ExecuteTime": {
     "end_time": "2020-08-20T05:40:36.099158Z",
     "start_time": "2020-08-20T05:40:36.096687Z"
    }
   },
   "outputs": [],
   "source": [
    "# setting current variables\n",
    "server_session_id = 0\n",
    "server_port = 50_000"
   ]
  },
  {
   "cell_type": "code",
   "execution_count": 13,
   "metadata": {
    "ExecuteTime": {
     "end_time": "2020-08-20T06:05:34.695090Z",
     "start_time": "2020-08-20T06:05:34.647438Z"
    }
   },
   "outputs": [
    {
     "data": {
      "application/vnd.jupyter.widget-view+json": {
       "model_id": "2e9356281387455a8b5d4e018b601978",
       "version_major": 2,
       "version_minor": 0
      },
      "text/plain": [
       "HBox(children=(Button(description='Start Server', style=ButtonStyle()), Button(description='Kill Server', styl…"
      ]
     },
     "metadata": {},
     "output_type": "display_data"
    },
    {
     "data": {
      "application/vnd.jupyter.widget-view+json": {
       "model_id": "84d5e4906fcd460b997d514fa4239b4b",
       "version_major": 2,
       "version_minor": 0
      },
      "text/plain": [
       "VBox(children=(Output(),))"
      ]
     },
     "metadata": {},
     "output_type": "display_data"
    }
   ],
   "source": [
    "button_server_load = widgets.Button(description = 'Start Server')\n",
    "button_server_kill = widgets.Button(description = 'Kill Server')\n",
    "\n",
    "out = widgets.Output()\n",
    "\n",
    "def on_button_server_start_clicked(_):\n",
    "    # \"linking function with output\"\n",
    "    with out:\n",
    "        # what happens when we press the button\n",
    "#         clear_output()\n",
    "        %runrealcmd ./../server_darknet/darknet server\n",
    "#         print('[STATUS] Killed server at', time.time()*1000)\n",
    "# linking button and function together using a button's method\n",
    "button_server_load.on_click(on_button_server_start_clicked)\n",
    "\n",
    "\n",
    "def on_button_server_kill_clicked(_):\n",
    "    # \"linking function with output\"\n",
    "    with out:\n",
    "        # what happens when we press the button\n",
    "#         clear_output()\n",
    "        server_python_commands.kill_server(server_port)\n",
    "        print('[STATUS] Killed server at', time.time()*1000)\n",
    "# linking button and function together using a button's method\n",
    "button_server_kill.on_click(on_button_server_kill_clicked)\n",
    "\n",
    "display(widgets.HBox((button_server_load, button_server_kill)))\n",
    "widgets.VBox([out])"
   ]
  },
  {
   "cell_type": "code",
   "execution_count": null,
   "metadata": {},
   "outputs": [],
   "source": []
  }
 ],
 "metadata": {
  "kernelspec": {
   "display_name": "Python 3",
   "language": "python",
   "name": "python3"
  },
  "language_info": {
   "codemirror_mode": {
    "name": "ipython",
    "version": 3
   },
   "file_extension": ".py",
   "mimetype": "text/x-python",
   "name": "python",
   "nbconvert_exporter": "python",
   "pygments_lexer": "ipython3",
   "version": "3.8.2"
  },
  "toc": {
   "base_numbering": 1,
   "nav_menu": {},
   "number_sections": true,
   "sideBar": true,
   "skip_h1_title": false,
   "title_cell": "Table of Contents",
   "title_sidebar": "Contents",
   "toc_cell": false,
   "toc_position": {},
   "toc_section_display": true,
   "toc_window_display": false
  }
 },
 "nbformat": 4,
 "nbformat_minor": 4
}
