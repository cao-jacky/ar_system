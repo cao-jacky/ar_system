{
 "cells": [
  {
   "cell_type": "code",
   "execution_count": 3,
   "metadata": {
    "ExecuteTime": {
     "end_time": "2021-01-06T13:40:37.126910Z",
     "start_time": "2021-01-06T13:40:37.120983Z"
    }
   },
   "outputs": [
    {
     "name": "stdout",
     "output_type": "stream",
     "text": [
      "UDP server up and listening\n"
     ]
    }
   ],
   "source": [
    "import socket\n",
    "\n",
    "localIP     = \"0.0.0.0\"\n",
    "localPort   = 50000\n",
    "bufferSize  = 50000\n",
    "\n",
    "# Create a datagram socket\n",
    "UDPServerSocket = socket.socket(family=socket.AF_INET, type=socket.SOCK_DGRAM)\n",
    "\n",
    "# Bind to address and ip\n",
    "UDPServerSocket.bind((localIP, localPort))\n",
    "print(\"UDP server up and listening\")"
   ]
  },
  {
   "cell_type": "code",
   "execution_count": null,
   "metadata": {
    "ExecuteTime": {
     "start_time": "2021-01-06T13:40:38.004Z"
    }
   },
   "outputs": [],
   "source": [
    "# Listen for incoming datagrams\n",
    "while(True):\n",
    "    bytesAddressPair = UDPServerSocket.recvfrom(bufferSize)\n",
    "    \n",
    "    message = bytesAddressPair[0]\n",
    "    address = bytesAddressPair[1]\n",
    "\n",
    "    clientMsg = \"Message from Client:{}\".format(message)\n",
    "    clientIP  = \"Client IP Address:{}\".format(address)\n",
    "    \n",
    "    print(clientMsg)\n",
    "    print(clientIP)"
   ]
  },
  {
   "cell_type": "code",
   "execution_count": null,
   "metadata": {},
   "outputs": [],
   "source": []
  }
 ],
 "metadata": {
  "kernelspec": {
   "display_name": "Python 3",
   "language": "python",
   "name": "python3"
  },
  "language_info": {
   "codemirror_mode": {
    "name": "ipython",
    "version": 3
   },
   "file_extension": ".py",
   "mimetype": "text/x-python",
   "name": "python",
   "nbconvert_exporter": "python",
   "pygments_lexer": "ipython3",
   "version": "3.8.5"
  },
  "toc": {
   "base_numbering": 1,
   "nav_menu": {},
   "number_sections": true,
   "sideBar": true,
   "skip_h1_title": false,
   "title_cell": "Table of Contents",
   "title_sidebar": "Contents",
   "toc_cell": false,
   "toc_position": {},
   "toc_section_display": true,
   "toc_window_display": false
  }
 },
 "nbformat": 4,
 "nbformat_minor": 4
}
